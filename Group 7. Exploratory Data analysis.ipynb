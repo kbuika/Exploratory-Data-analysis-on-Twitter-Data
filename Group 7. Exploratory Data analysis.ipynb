{
 "cells": [
  {
   "cell_type": "markdown",
   "metadata": {},
   "source": [
    "# Exploratory Data Analysis on Twitter Data"
   ]
  },
  {
   "cell_type": "code",
   "execution_count": 1,
   "metadata": {},
   "outputs": [],
   "source": [
    "# Importing Dependencies\n",
    "import numpy as np # for computing\n",
    "import pandas as pd # for handling data\n",
    "import seaborn as sns # for plotting heatmaps\n",
    "import matplotlib.pyplot as plt # for plotting graphs\n",
    "%matplotlib inline\n",
    "\n"
   ]
  },
  {
   "cell_type": "code",
   "execution_count": 2,
   "metadata": {},
   "outputs": [],
   "source": [
    "# load the data\n",
    "data = pd.read_csv(\"tweet_data.csv\", encoding='latin-1')"
   ]
  },
  {
   "cell_type": "code",
   "execution_count": 3,
   "metadata": {},
   "outputs": [
    {
     "data": {
      "text/html": [
       "<div>\n",
       "<style scoped>\n",
       "    .dataframe tbody tr th:only-of-type {\n",
       "        vertical-align: middle;\n",
       "    }\n",
       "\n",
       "    .dataframe tbody tr th {\n",
       "        vertical-align: top;\n",
       "    }\n",
       "\n",
       "    .dataframe thead th {\n",
       "        text-align: right;\n",
       "    }\n",
       "</style>\n",
       "<table border=\"1\" class=\"dataframe\">\n",
       "  <thead>\n",
       "    <tr style=\"text-align: right;\">\n",
       "      <th></th>\n",
       "      <th>user_id_str</th>\n",
       "      <th>in_reply_to_screen_name</th>\n",
       "      <th>created_at</th>\n",
       "      <th>in_reply_to_status_id_str</th>\n",
       "      <th>in_reply_to_user_id_str</th>\n",
       "      <th>verified</th>\n",
       "      <th>location</th>\n",
       "      <th>geo_enabled</th>\n",
       "      <th>user_created_at</th>\n",
       "      <th>statuses_count</th>\n",
       "      <th>followers_count</th>\n",
       "      <th>favourites_count</th>\n",
       "      <th>user_lang</th>\n",
       "      <th>friends_count</th>\n",
       "      <th>country</th>\n",
       "      <th>place_type</th>\n",
       "    </tr>\n",
       "  </thead>\n",
       "  <tbody>\n",
       "    <tr>\n",
       "      <th>0</th>\n",
       "      <td>2.974291e+08</td>\n",
       "      <td>NaN</td>\n",
       "      <td>Wed Dec 07 09:49:46 +0000 2016</td>\n",
       "      <td>NaN</td>\n",
       "      <td>NaN</td>\n",
       "      <td>False</td>\n",
       "      <td>New Jersey, USA</td>\n",
       "      <td>True</td>\n",
       "      <td>Thu May 12 14:09:09 +0000 2011</td>\n",
       "      <td>3072</td>\n",
       "      <td>244</td>\n",
       "      <td>5</td>\n",
       "      <td>en</td>\n",
       "      <td>160</td>\n",
       "      <td>United States</td>\n",
       "      <td>city</td>\n",
       "    </tr>\n",
       "    <tr>\n",
       "      <th>1</th>\n",
       "      <td>4.390121e+07</td>\n",
       "      <td>DinaPugliese</td>\n",
       "      <td>Wed Dec 07 09:49:49 +0000 2016</td>\n",
       "      <td>8.060000e+17</td>\n",
       "      <td>1.479665e+08</td>\n",
       "      <td>False</td>\n",
       "      <td>Cochrane</td>\n",
       "      <td>True</td>\n",
       "      <td>Mon Jun 01 15:16:28 +0000 2009</td>\n",
       "      <td>7548</td>\n",
       "      <td>298</td>\n",
       "      <td>3768</td>\n",
       "      <td>en</td>\n",
       "      <td>296</td>\n",
       "      <td>Canada</td>\n",
       "      <td>city</td>\n",
       "    </tr>\n",
       "    <tr>\n",
       "      <th>2</th>\n",
       "      <td>2.436496e+09</td>\n",
       "      <td>NaN</td>\n",
       "      <td>Wed Dec 07 09:49:49 +0000 2016</td>\n",
       "      <td>NaN</td>\n",
       "      <td>NaN</td>\n",
       "      <td>False</td>\n",
       "      <td>NaN</td>\n",
       "      <td>True</td>\n",
       "      <td>Tue Mar 25 20:50:17 +0000 2014</td>\n",
       "      <td>5862</td>\n",
       "      <td>178</td>\n",
       "      <td>1067</td>\n",
       "      <td>en</td>\n",
       "      <td>229</td>\n",
       "      <td>United States</td>\n",
       "      <td>city</td>\n",
       "    </tr>\n",
       "    <tr>\n",
       "      <th>3</th>\n",
       "      <td>2.555416e+09</td>\n",
       "      <td>monieke71</td>\n",
       "      <td>Wed Dec 07 09:49:51 +0000 2016</td>\n",
       "      <td>8.060000e+17</td>\n",
       "      <td>3.221206e+09</td>\n",
       "      <td>False</td>\n",
       "      <td>France</td>\n",
       "      <td>True</td>\n",
       "      <td>Sun Jun 08 19:54:41 +0000 2014</td>\n",
       "      <td>123574</td>\n",
       "      <td>1058</td>\n",
       "      <td>58074</td>\n",
       "      <td>fr</td>\n",
       "      <td>559</td>\n",
       "      <td>France</td>\n",
       "      <td>city</td>\n",
       "    </tr>\n",
       "    <tr>\n",
       "      <th>4</th>\n",
       "      <td>7.780000e+17</td>\n",
       "      <td>NaN</td>\n",
       "      <td>Wed Dec 07 09:50:00 +0000 2016</td>\n",
       "      <td>NaN</td>\n",
       "      <td>NaN</td>\n",
       "      <td>False</td>\n",
       "      <td>4 Ubiaja Crescent, Garki ll, Abuja. 08079699171.</td>\n",
       "      <td>True</td>\n",
       "      <td>Sun Sep 18 17:15:34 +0000 2016</td>\n",
       "      <td>53</td>\n",
       "      <td>56</td>\n",
       "      <td>0</td>\n",
       "      <td>en</td>\n",
       "      <td>366</td>\n",
       "      <td>Nigeria</td>\n",
       "      <td>admin</td>\n",
       "    </tr>\n",
       "  </tbody>\n",
       "</table>\n",
       "</div>"
      ],
      "text/plain": [
       "    user_id_str in_reply_to_screen_name                      created_at  \\\n",
       "0  2.974291e+08                     NaN  Wed Dec 07 09:49:46 +0000 2016   \n",
       "1  4.390121e+07            DinaPugliese  Wed Dec 07 09:49:49 +0000 2016   \n",
       "2  2.436496e+09                     NaN  Wed Dec 07 09:49:49 +0000 2016   \n",
       "3  2.555416e+09               monieke71  Wed Dec 07 09:49:51 +0000 2016   \n",
       "4  7.780000e+17                     NaN  Wed Dec 07 09:50:00 +0000 2016   \n",
       "\n",
       "   in_reply_to_status_id_str  in_reply_to_user_id_str  verified  \\\n",
       "0                        NaN                      NaN     False   \n",
       "1               8.060000e+17             1.479665e+08     False   \n",
       "2                        NaN                      NaN     False   \n",
       "3               8.060000e+17             3.221206e+09     False   \n",
       "4                        NaN                      NaN     False   \n",
       "\n",
       "                                           location  geo_enabled  \\\n",
       "0                                   New Jersey, USA         True   \n",
       "1                                          Cochrane         True   \n",
       "2                                               NaN         True   \n",
       "3                                            France         True   \n",
       "4  4 Ubiaja Crescent, Garki ll, Abuja. 08079699171.         True   \n",
       "\n",
       "                  user_created_at  statuses_count  followers_count  \\\n",
       "0  Thu May 12 14:09:09 +0000 2011            3072              244   \n",
       "1  Mon Jun 01 15:16:28 +0000 2009            7548              298   \n",
       "2  Tue Mar 25 20:50:17 +0000 2014            5862              178   \n",
       "3  Sun Jun 08 19:54:41 +0000 2014          123574             1058   \n",
       "4  Sun Sep 18 17:15:34 +0000 2016              53               56   \n",
       "\n",
       "   favourites_count user_lang  friends_count        country place_type  \n",
       "0                 5        en            160  United States       city  \n",
       "1              3768        en            296         Canada       city  \n",
       "2              1067        en            229  United States       city  \n",
       "3             58074        fr            559         France       city  \n",
       "4                 0        en            366        Nigeria      admin  "
      ]
     },
     "execution_count": 3,
     "metadata": {},
     "output_type": "execute_result"
    }
   ],
   "source": [
    "# view the data\n",
    "data.head()"
   ]
  },
  {
   "cell_type": "code",
   "execution_count": 4,
   "metadata": {},
   "outputs": [
    {
     "data": {
      "text/plain": [
       "(4811, 16)"
      ]
     },
     "execution_count": 4,
     "metadata": {},
     "output_type": "execute_result"
    }
   ],
   "source": [
    "# shape of the data in order to view the number of features and datapoints\n",
    "data.shape"
   ]
  },
  {
   "cell_type": "code",
   "execution_count": 5,
   "metadata": {},
   "outputs": [
    {
     "data": {
      "text/plain": [
       "<matplotlib.axes._subplots.AxesSubplot at 0x23de4650eb8>"
      ]
     },
     "execution_count": 5,
     "metadata": {},
     "output_type": "execute_result"
    },
    {
     "data": {
      "image/png": "[encoded data removed]",
      "text/plain": [
       "<Figure size 432x288 with 1 Axes>"
      ]
     },
     "metadata": {
      "needs_background": "light"
     },
     "output_type": "display_data"
    }
   ],
   "source": [
    "# visualize if the data has any missing values\n",
    "sns.heatmap(data.isnull(), cbar=False, cmap='Accent')"
   ]
  },
  {
   "cell_type": "markdown",
   "metadata": {},
   "source": [
    "Apparently, the data has quite alot of missing values which we have to deal with.\n",
    " Some of these values are actually missing and some of them are just values that don't exist and this can be helpful in our EDA."
   ]
  },
  {
   "cell_type": "code",
   "execution_count": 6,
   "metadata": {},
   "outputs": [
    {
     "data": {
      "text/plain": [
       "user_id_str                     0\n",
       "in_reply_to_screen_name      3523\n",
       "created_at                      0\n",
       "in_reply_to_status_id_str    4151\n",
       "in_reply_to_user_id_str      3523\n",
       "verified                        0\n",
       "location                      635\n",
       "geo_enabled                     0\n",
       "user_created_at                 0\n",
       "statuses_count                  0\n",
       "followers_count                 0\n",
       "favourites_count                0\n",
       "user_lang                       0\n",
       "friends_count                   0\n",
       "country                         0\n",
       "place_type                      0\n",
       "dtype: int64"
      ]
     },
     "execution_count": 6,
     "metadata": {},
     "output_type": "execute_result"
    }
   ],
   "source": [
    "# let's see the columns with missing values and actually the number of missing values in each of the columns.\n",
    "data.isnull().sum()"
   ]
  },
  {
   "cell_type": "markdown",
   "metadata": {},
   "source": [
    "Another consideration to make is that all of the columns are actually fine having the missing values.\n",
    "     Moving on."
   ]
  },
  {
   "cell_type": "code",
   "execution_count": 7,
   "metadata": {},
   "outputs": [],
   "source": [
    "# fill the missing values with a value that we can easily identify with while performing EDA\n",
    "data['location'] = data['location'].replace(np.nan, 0, regex=True)\n",
    "\n",
    "\n",
    "\n"
   ]
  },
  {
   "cell_type": "code",
   "execution_count": 8,
   "metadata": {},
   "outputs": [
    {
     "data": {
      "text/plain": [
       "<matplotlib.axes._subplots.AxesSubplot at 0x23de4524828>"
      ]
     },
     "execution_count": 8,
     "metadata": {},
     "output_type": "execute_result"
    },
    {
     "data": {
      "image/png": "[encoded data removed]",
      "text/plain": [
       "<Figure size 432x288 with 1 Axes>"
      ]
     },
     "metadata": {
      "needs_background": "light"
     },
     "output_type": "display_data"
    }
   ],
   "source": [
    "# Visualize once more in order to see if the data has been filled\n",
    "sns.heatmap(data.isnull(), cbar=False, cmap='Accent')\n"
   ]
  },
  {
   "cell_type": "markdown",
   "metadata": {},
   "source": [
    "Note that all the missing values have been filled. Now '0' in location column represents tweet not geotagged.\n",
    " The columns with missing values are:\n",
    "         1.in_reply_to_screen_name      \n",
    "         2.in_reply_to_status_id_str    \n",
    "         3.in_reply_to_user_id_str      \n",
    "         4.location                     "
   ]
  },
  {
   "cell_type": "code",
   "execution_count": 9,
   "metadata": {},
   "outputs": [
    {
     "data": {
      "text/plain": [
       "<matplotlib.axes._subplots.AxesSubplot at 0x23de488fb70>"
      ]
     },
     "execution_count": 9,
     "metadata": {},
     "output_type": "execute_result"
    },
    {
     "data": {
      "image/png": "[encoded data removed]",
      "text/plain": [
       "<Figure size 432x288 with 2 Axes>"
      ]
     },
     "metadata": {
      "needs_background": "light"
     },
     "output_type": "display_data"
    }
   ],
   "source": [
    "# perform some correlation on the data to identify the relationships that exist among the features.\n",
    "corr = data.corr()\n",
    "sns.heatmap(corr, center=0, annot=True)"
   ]
  },
  {
   "cell_type": "markdown",
   "metadata": {},
   "source": [
    "The correlation of our data is okay since dropping of some columns was done in Excel."
   ]
  },
  {
   "cell_type": "code",
   "execution_count": 10,
   "metadata": {},
   "outputs": [
    {
     "name": "stdout",
     "output_type": "stream",
     "text": [
      "<class 'pandas.core.frame.DataFrame'>\n",
      "RangeIndex: 4811 entries, 0 to 4810\n",
      "Data columns (total 16 columns):\n",
      "user_id_str                  4811 non-null float64\n",
      "in_reply_to_screen_name      1288 non-null object\n",
      "created_at                   4811 non-null object\n",
      "in_reply_to_status_id_str    660 non-null float64\n",
      "in_reply_to_user_id_str      1288 non-null float64\n",
      "verified                     4811 non-null bool\n",
      "location                     4811 non-null object\n",
      "geo_enabled                  4811 non-null bool\n",
      "user_created_at              4811 non-null object\n",
      "statuses_count               4811 non-null int64\n",
      "followers_count              4811 non-null int64\n",
      "favourites_count             4811 non-null int64\n",
      "user_lang                    4811 non-null object\n",
      "friends_count                4811 non-null int64\n",
      "country                      4811 non-null object\n",
      "place_type                   4811 non-null object\n",
      "dtypes: bool(2), float64(3), int64(4), object(7)\n",
      "memory usage: 535.7+ KB\n"
     ]
    }
   ],
   "source": [
    "# view the datatypes\n",
    "data.info()"
   ]
  },
  {
   "cell_type": "markdown",
   "metadata": {},
   "source": [
    "The data has different datatypes which still work preperly when performing EDA."
   ]
  },
  {
   "cell_type": "markdown",
   "metadata": {},
   "source": [
    "# Exploratory Data Analysis"
   ]
  },
  {
   "cell_type": "code",
   "execution_count": 11,
   "metadata": {},
   "outputs": [],
   "source": [
    "# separate the number of people who did not geotag in their own dataframe\n",
    "data_not_tag = data[data['location']==0]"
   ]
  },
  {
   "cell_type": "code",
   "execution_count": 12,
   "metadata": {},
   "outputs": [
    {
     "data": {
      "text/plain": [
       "(635, 16)"
      ]
     },
     "execution_count": 12,
     "metadata": {},
     "output_type": "execute_result"
    }
   ],
   "source": [
    "data_not_tag.shape\n"
   ]
  },
  {
   "cell_type": "markdown",
   "metadata": {},
   "source": [
    "635 people did not geotag their tweets. Why??"
   ]
  },
  {
   "cell_type": "code",
   "execution_count": 13,
   "metadata": {},
   "outputs": [],
   "source": [
    "data_tag = data[data['location'] !=0]"
   ]
  },
  {
   "cell_type": "code",
   "execution_count": 14,
   "metadata": {},
   "outputs": [
    {
     "data": {
      "text/plain": [
       "(4176, 16)"
      ]
     },
     "execution_count": 14,
     "metadata": {},
     "output_type": "execute_result"
    }
   ],
   "source": [
    "data_tag.shape"
   ]
  },
  {
   "cell_type": "markdown",
   "metadata": {},
   "source": [
    "out of 4,811 tweets, 4,176 were geotagged."
   ]
  },
  {
   "cell_type": "code",
   "execution_count": 15,
   "metadata": {},
   "outputs": [
    {
     "name": "stdout",
     "output_type": "stream",
     "text": [
      "Data description for people who geotagged their tweets\n"
     ]
    },
    {
     "data": {
      "text/html": [
       "<div>\n",
       "<style scoped>\n",
       "    .dataframe tbody tr th:only-of-type {\n",
       "        vertical-align: middle;\n",
       "    }\n",
       "\n",
       "    .dataframe tbody tr th {\n",
       "        vertical-align: top;\n",
       "    }\n",
       "\n",
       "    .dataframe thead th {\n",
       "        text-align: right;\n",
       "    }\n",
       "</style>\n",
       "<table border=\"1\" class=\"dataframe\">\n",
       "  <thead>\n",
       "    <tr style=\"text-align: right;\">\n",
       "      <th></th>\n",
       "      <th>user_id_str</th>\n",
       "      <th>in_reply_to_status_id_str</th>\n",
       "      <th>in_reply_to_user_id_str</th>\n",
       "      <th>statuses_count</th>\n",
       "      <th>followers_count</th>\n",
       "      <th>favourites_count</th>\n",
       "      <th>friends_count</th>\n",
       "    </tr>\n",
       "  </thead>\n",
       "  <tbody>\n",
       "    <tr>\n",
       "      <th>count</th>\n",
       "      <td>4.176000e+03</td>\n",
       "      <td>5.390000e+02</td>\n",
       "      <td>1.110000e+03</td>\n",
       "      <td>4176.000000</td>\n",
       "      <td>4.176000e+03</td>\n",
       "      <td>4176.000000</td>\n",
       "      <td>4176.000000</td>\n",
       "    </tr>\n",
       "    <tr>\n",
       "      <th>mean</th>\n",
       "      <td>5.847246e+16</td>\n",
       "      <td>8.061651e+17</td>\n",
       "      <td>7.228649e+16</td>\n",
       "      <td>55513.899665</td>\n",
       "      <td>4.072214e+03</td>\n",
       "      <td>13189.494013</td>\n",
       "      <td>1363.183908</td>\n",
       "    </tr>\n",
       "    <tr>\n",
       "      <th>std</th>\n",
       "      <td>2.025241e+17</td>\n",
       "      <td>3.340165e+15</td>\n",
       "      <td>2.227934e+17</td>\n",
       "      <td>87902.490925</td>\n",
       "      <td>3.992252e+04</td>\n",
       "      <td>29672.365420</td>\n",
       "      <td>4286.096237</td>\n",
       "    </tr>\n",
       "    <tr>\n",
       "      <th>min</th>\n",
       "      <td>1.081000e+03</td>\n",
       "      <td>7.430000e+17</td>\n",
       "      <td>5.520952e+06</td>\n",
       "      <td>1.000000</td>\n",
       "      <td>0.000000e+00</td>\n",
       "      <td>0.000000</td>\n",
       "      <td>0.000000</td>\n",
       "    </tr>\n",
       "    <tr>\n",
       "      <th>25%</th>\n",
       "      <td>1.774324e+08</td>\n",
       "      <td>8.060000e+17</td>\n",
       "      <td>8.928280e+07</td>\n",
       "      <td>4197.500000</td>\n",
       "      <td>2.040000e+02</td>\n",
       "      <td>252.750000</td>\n",
       "      <td>186.000000</td>\n",
       "    </tr>\n",
       "    <tr>\n",
       "      <th>50%</th>\n",
       "      <td>5.555985e+08</td>\n",
       "      <td>8.060000e+17</td>\n",
       "      <td>5.253445e+08</td>\n",
       "      <td>15542.500000</td>\n",
       "      <td>6.280000e+02</td>\n",
       "      <td>2405.000000</td>\n",
       "      <td>488.500000</td>\n",
       "    </tr>\n",
       "    <tr>\n",
       "      <th>75%</th>\n",
       "      <td>2.895411e+09</td>\n",
       "      <td>8.070000e+17</td>\n",
       "      <td>2.711855e+09</td>\n",
       "      <td>59551.000000</td>\n",
       "      <td>1.698250e+03</td>\n",
       "      <td>10808.250000</td>\n",
       "      <td>1254.000000</td>\n",
       "    </tr>\n",
       "    <tr>\n",
       "      <th>max</th>\n",
       "      <td>8.070000e+17</td>\n",
       "      <td>8.070000e+17</td>\n",
       "      <td>8.070000e+17</td>\n",
       "      <td>423826.000000</td>\n",
       "      <td>1.990930e+06</td>\n",
       "      <td>412345.000000</td>\n",
       "      <td>127633.000000</td>\n",
       "    </tr>\n",
       "  </tbody>\n",
       "</table>\n",
       "</div>"
      ],
      "text/plain": [
       "        user_id_str  in_reply_to_status_id_str  in_reply_to_user_id_str  \\\n",
       "count  4.176000e+03               5.390000e+02             1.110000e+03   \n",
       "mean   5.847246e+16               8.061651e+17             7.228649e+16   \n",
       "std    2.025241e+17               3.340165e+15             2.227934e+17   \n",
       "min    1.081000e+03               7.430000e+17             5.520952e+06   \n",
       "25%    1.774324e+08               8.060000e+17             8.928280e+07   \n",
       "50%    5.555985e+08               8.060000e+17             5.253445e+08   \n",
       "75%    2.895411e+09               8.070000e+17             2.711855e+09   \n",
       "max    8.070000e+17               8.070000e+17             8.070000e+17   \n",
       "\n",
       "       statuses_count  followers_count  favourites_count  friends_count  \n",
       "count     4176.000000     4.176000e+03       4176.000000    4176.000000  \n",
       "mean     55513.899665     4.072214e+03      13189.494013    1363.183908  \n",
       "std      87902.490925     3.992252e+04      29672.365420    4286.096237  \n",
       "min          1.000000     0.000000e+00          0.000000       0.000000  \n",
       "25%       4197.500000     2.040000e+02        252.750000     186.000000  \n",
       "50%      15542.500000     6.280000e+02       2405.000000     488.500000  \n",
       "75%      59551.000000     1.698250e+03      10808.250000    1254.000000  \n",
       "max     423826.000000     1.990930e+06     412345.000000  127633.000000  "
      ]
     },
     "execution_count": 15,
     "metadata": {},
     "output_type": "execute_result"
    }
   ],
   "source": [
    "# compare the features of the people who tagged their location and those who didn't.\n",
    "# start by describing the 2 datasets\n",
    "print(\"Data description for people who geotagged their tweets\")\n",
    "data_tag.describe()\n"
   ]
  },
  {
   "cell_type": "code",
   "execution_count": 16,
   "metadata": {},
   "outputs": [
    {
     "name": "stdout",
     "output_type": "stream",
     "text": [
      "Data Description for people who did not geotag their tweets\n"
     ]
    },
    {
     "data": {
      "text/html": [
       "<div>\n",
       "<style scoped>\n",
       "    .dataframe tbody tr th:only-of-type {\n",
       "        vertical-align: middle;\n",
       "    }\n",
       "\n",
       "    .dataframe tbody tr th {\n",
       "        vertical-align: top;\n",
       "    }\n",
       "\n",
       "    .dataframe thead th {\n",
       "        text-align: right;\n",
       "    }\n",
       "</style>\n",
       "<table border=\"1\" class=\"dataframe\">\n",
       "  <thead>\n",
       "    <tr style=\"text-align: right;\">\n",
       "      <th></th>\n",
       "      <th>user_id_str</th>\n",
       "      <th>in_reply_to_status_id_str</th>\n",
       "      <th>in_reply_to_user_id_str</th>\n",
       "      <th>statuses_count</th>\n",
       "      <th>followers_count</th>\n",
       "      <th>favourites_count</th>\n",
       "      <th>friends_count</th>\n",
       "    </tr>\n",
       "  </thead>\n",
       "  <tbody>\n",
       "    <tr>\n",
       "      <th>count</th>\n",
       "      <td>6.350000e+02</td>\n",
       "      <td>1.210000e+02</td>\n",
       "      <td>1.780000e+02</td>\n",
       "      <td>635.000000</td>\n",
       "      <td>635.000000</td>\n",
       "      <td>635.000000</td>\n",
       "      <td>635.000000</td>\n",
       "    </tr>\n",
       "    <tr>\n",
       "      <th>mean</th>\n",
       "      <td>1.002913e+17</td>\n",
       "      <td>8.051901e+17</td>\n",
       "      <td>9.120787e+16</td>\n",
       "      <td>78906.250394</td>\n",
       "      <td>5645.737008</td>\n",
       "      <td>27418.486614</td>\n",
       "      <td>5563.176378</td>\n",
       "    </tr>\n",
       "    <tr>\n",
       "      <th>std</th>\n",
       "      <td>2.573196e+17</td>\n",
       "      <td>8.299914e+15</td>\n",
       "      <td>2.502563e+17</td>\n",
       "      <td>195205.213649</td>\n",
       "      <td>15202.307980</td>\n",
       "      <td>65959.036376</td>\n",
       "      <td>15840.986315</td>\n",
       "    </tr>\n",
       "    <tr>\n",
       "      <th>min</th>\n",
       "      <td>1.261243e+07</td>\n",
       "      <td>7.180000e+17</td>\n",
       "      <td>1.574188e+07</td>\n",
       "      <td>1.000000</td>\n",
       "      <td>0.000000</td>\n",
       "      <td>0.000000</td>\n",
       "      <td>0.000000</td>\n",
       "    </tr>\n",
       "    <tr>\n",
       "      <th>25%</th>\n",
       "      <td>4.620675e+08</td>\n",
       "      <td>8.060000e+17</td>\n",
       "      <td>2.704799e+08</td>\n",
       "      <td>1774.000000</td>\n",
       "      <td>135.000000</td>\n",
       "      <td>339.500000</td>\n",
       "      <td>152.000000</td>\n",
       "    </tr>\n",
       "    <tr>\n",
       "      <th>50%</th>\n",
       "      <td>2.365617e+09</td>\n",
       "      <td>8.060000e+17</td>\n",
       "      <td>1.183857e+09</td>\n",
       "      <td>9194.000000</td>\n",
       "      <td>422.000000</td>\n",
       "      <td>2292.000000</td>\n",
       "      <td>390.000000</td>\n",
       "    </tr>\n",
       "    <tr>\n",
       "      <th>75%</th>\n",
       "      <td>3.248205e+09</td>\n",
       "      <td>8.070000e+17</td>\n",
       "      <td>2.940280e+09</td>\n",
       "      <td>31156.000000</td>\n",
       "      <td>1266.000000</td>\n",
       "      <td>11457.000000</td>\n",
       "      <td>951.000000</td>\n",
       "    </tr>\n",
       "    <tr>\n",
       "      <th>max</th>\n",
       "      <td>8.070000e+17</td>\n",
       "      <td>8.070000e+17</td>\n",
       "      <td>8.060000e+17</td>\n",
       "      <td>708799.000000</td>\n",
       "      <td>71909.000000</td>\n",
       "      <td>237707.000000</td>\n",
       "      <td>56876.000000</td>\n",
       "    </tr>\n",
       "  </tbody>\n",
       "</table>\n",
       "</div>"
      ],
      "text/plain": [
       "        user_id_str  in_reply_to_status_id_str  in_reply_to_user_id_str  \\\n",
       "count  6.350000e+02               1.210000e+02             1.780000e+02   \n",
       "mean   1.002913e+17               8.051901e+17             9.120787e+16   \n",
       "std    2.573196e+17               8.299914e+15             2.502563e+17   \n",
       "min    1.261243e+07               7.180000e+17             1.574188e+07   \n",
       "25%    4.620675e+08               8.060000e+17             2.704799e+08   \n",
       "50%    2.365617e+09               8.060000e+17             1.183857e+09   \n",
       "75%    3.248205e+09               8.070000e+17             2.940280e+09   \n",
       "max    8.070000e+17               8.070000e+17             8.060000e+17   \n",
       "\n",
       "       statuses_count  followers_count  favourites_count  friends_count  \n",
       "count      635.000000       635.000000        635.000000     635.000000  \n",
       "mean     78906.250394      5645.737008      27418.486614    5563.176378  \n",
       "std     195205.213649     15202.307980      65959.036376   15840.986315  \n",
       "min          1.000000         0.000000          0.000000       0.000000  \n",
       "25%       1774.000000       135.000000        339.500000     152.000000  \n",
       "50%       9194.000000       422.000000       2292.000000     390.000000  \n",
       "75%      31156.000000      1266.000000      11457.000000     951.000000  \n",
       "max     708799.000000     71909.000000     237707.000000   56876.000000  "
      ]
     },
     "execution_count": 16,
     "metadata": {},
     "output_type": "execute_result"
    }
   ],
   "source": [
    "# not tagged tweets\n",
    "print(\"Data Description for people who did not geotag their tweets\")\n",
    "data_not_tag.describe()"
   ]
  },
  {
   "cell_type": "markdown",
   "metadata": {},
   "source": [
    "According to the mean count of followers for 25% of the population, people who tag their tweets have more followers than people who do not tag their tweets."
   ]
  },
  {
   "cell_type": "code",
   "execution_count": 17,
   "metadata": {
    "scrolled": true
   },
   "outputs": [
    {
     "name": "stdout",
     "output_type": "stream",
     "text": [
      "Top 10 countries from which people geotagged their tweets\n"
     ]
    },
    {
     "data": {
      "image/png": "[encoded data removed]",
      "text/plain": [
       "<Figure size 432x288 with 1 Axes>"
      ]
     },
     "metadata": {
      "needs_background": "light"
     },
     "output_type": "display_data"
    }
   ],
   "source": [
    "# top 10 countries from which people geotagged their tweets.\n",
    "top_country = data_tag.country.value_counts()[:10]\n",
    "top_country.plot(kind='barh')\n",
    "print(\"Top 10 countries from which people geotagged their tweets\")\n",
    "plt.show()\n"
   ]
  },
  {
   "cell_type": "code",
   "execution_count": 18,
   "metadata": {},
   "outputs": [
    {
     "name": "stdout",
     "output_type": "stream",
     "text": [
      "Top 10 countries from which people did not geotagged their tweets\n"
     ]
    },
    {
     "data": {
      "image/png": "[encoded data removed]",
      "text/plain": [
       "<Figure size 432x288 with 1 Axes>"
      ]
     },
     "metadata": {
      "needs_background": "light"
     },
     "output_type": "display_data"
    }
   ],
   "source": [
    "top_country2 = data_not_tag.country.value_counts()[:10]\n",
    "top_country2.plot(kind='barh')\n",
    "print(\"Top 10 countries from which people did not geotagged their tweets\")\n",
    "plt.show()\n"
   ]
  },
  {
   "cell_type": "markdown",
   "metadata": {},
   "source": [
    "More people from United States geotagged their tweets than people who did not.Why? Maybe most twitter users have phones with better GPS than people with not. Maybe streets in the US have better scenery that entice people to geotag. More feature engineering can be performed on the data to get much precise conclusions. The different countries from the dataset have different counts for geotagging."
   ]
  },
  {
   "cell_type": "code",
   "execution_count": 19,
   "metadata": {},
   "outputs": [
    {
     "name": "stdout",
     "output_type": "stream",
     "text": [
      "Place geotagged from\n"
     ]
    },
    {
     "data": {
      "image/png": "[encoded data removed]",
      "text/plain": [
       "<Figure size 432x288 with 1 Axes>"
      ]
     },
     "metadata": {
      "needs_background": "light"
     },
     "output_type": "display_data"
    }
   ],
   "source": [
    "place = data_tag.place_type.value_counts()\n",
    "place.plot(kind='bar')\n",
    "print(\"Place geotagged from\")\n",
    "plt.show()"
   ]
  },
  {
   "cell_type": "code",
   "execution_count": 20,
   "metadata": {},
   "outputs": [
    {
     "name": "stdout",
     "output_type": "stream",
     "text": [
      "Place from\n"
     ]
    },
    {
     "data": {
      "image/png": "[encoded data removed]",
      "text/plain": [
       "<Figure size 432x288 with 1 Axes>"
      ]
     },
     "metadata": {
      "needs_background": "light"
     },
     "output_type": "display_data"
    }
   ],
   "source": [
    "place = data_not_tag.place_type.value_counts()\n",
    "place.plot(kind='bar')\n",
    "print(\"Place from\")\n",
    "plt.show()"
   ]
  },
  {
   "cell_type": "markdown",
   "metadata": {},
   "source": [
    "Majority of people who geotagged are from the city and so is those who did not.But at a closer look, most people from the city geotagged."
   ]
  },
  {
   "cell_type": "code",
   "execution_count": 21,
   "metadata": {},
   "outputs": [
    {
     "name": "stderr",
     "output_type": "stream",
     "text": [
      "C:\\ProgramData\\Anaconda3\\lib\\site-packages\\ipykernel_launcher.py:3: SettingWithCopyWarning: \n",
      "A value is trying to be set on a copy of a slice from a DataFrame.\n",
      "Try using .loc[row_indexer,col_indexer] = value instead\n",
      "\n",
      "See the caveats in the documentation: http://pandas.pydata.org/pandas-docs/stable/indexing.html#indexing-view-versus-copy\n",
      "  This is separate from the ipykernel package so we can avoid doing imports until\n",
      "C:\\ProgramData\\Anaconda3\\lib\\site-packages\\ipykernel_launcher.py:4: SettingWithCopyWarning: \n",
      "A value is trying to be set on a copy of a slice from a DataFrame.\n",
      "Try using .loc[row_indexer,col_indexer] = value instead\n",
      "\n",
      "See the caveats in the documentation: http://pandas.pydata.org/pandas-docs/stable/indexing.html#indexing-view-versus-copy\n",
      "  after removing the cwd from sys.path.\n"
     ]
    },
    {
     "data": {
      "text/plain": [
       "0    11\n",
       "1    09\n",
       "3    14\n",
       "4    16\n",
       "5    09\n",
       "Name: year, dtype: object"
      ]
     },
     "execution_count": 21,
     "metadata": {},
     "output_type": "execute_result"
    }
   ],
   "source": [
    "# create a column for the year that the user joined twitter.\n",
    "# splitting the date account created to the year.\n",
    "data_tag['user_created_at'] = pd.to_datetime(data_tag['user_created_at'])\n",
    "data_tag['year'] = data_tag['user_created_at'].dt.strftime('%y')\n",
    "data_tag['year'].head()"
   ]
  },
  {
   "cell_type": "code",
   "execution_count": 22,
   "metadata": {},
   "outputs": [
    {
     "name": "stdout",
     "output_type": "stream",
     "text": [
      "The year when the people who geotagged joined twitter\n"
     ]
    },
    {
     "data": {
      "image/png": "[encoded data removed]",
      "text/plain": [
       "<Figure size 432x288 with 1 Axes>"
      ]
     },
     "metadata": {
      "needs_background": "light"
     },
     "output_type": "display_data"
    }
   ],
   "source": [
    "year = data_tag.year.value_counts()\n",
    "year.plot(kind='bar')\n",
    "print(\"The year when the people who geotagged joined twitter\")\n",
    "plt.show()\n"
   ]
  },
  {
   "cell_type": "code",
   "execution_count": 23,
   "metadata": {},
   "outputs": [
    {
     "name": "stdout",
     "output_type": "stream",
     "text": [
      "Year joined for people who did not geotag their tweets\n"
     ]
    },
    {
     "name": "stderr",
     "output_type": "stream",
     "text": [
      "C:\\ProgramData\\Anaconda3\\lib\\site-packages\\ipykernel_launcher.py:2: SettingWithCopyWarning: \n",
      "A value is trying to be set on a copy of a slice from a DataFrame.\n",
      "Try using .loc[row_indexer,col_indexer] = value instead\n",
      "\n",
      "See the caveats in the documentation: http://pandas.pydata.org/pandas-docs/stable/indexing.html#indexing-view-versus-copy\n",
      "  \n",
      "C:\\ProgramData\\Anaconda3\\lib\\site-packages\\ipykernel_launcher.py:3: SettingWithCopyWarning: \n",
      "A value is trying to be set on a copy of a slice from a DataFrame.\n",
      "Try using .loc[row_indexer,col_indexer] = value instead\n",
      "\n",
      "See the caveats in the documentation: http://pandas.pydata.org/pandas-docs/stable/indexing.html#indexing-view-versus-copy\n",
      "  This is separate from the ipykernel package so we can avoid doing imports until\n"
     ]
    },
    {
     "data": {
      "image/png": "[encoded data removed]",
      "text/plain": [
       "<Figure size 432x288 with 1 Axes>"
      ]
     },
     "metadata": {
      "needs_background": "light"
     },
     "output_type": "display_data"
    }
   ],
   "source": [
    "# convert the column to a datetime format\n",
    "data_not_tag['user_created_at'] = pd.to_datetime(data_not_tag['user_created_at'])\n",
    "data_not_tag['year'] = data_not_tag['user_created_at'].dt.strftime('%y')\n",
    "\n",
    "# plotting the year the people who did not geotag joined twitter\n",
    "year = data_not_tag.year.value_counts()\n",
    "year.plot(kind='bar')\n",
    "print(\"Year joined for people who did not geotag their tweets\")\n",
    "plt.show()"
   ]
  },
  {
   "cell_type": "code",
   "execution_count": 24,
   "metadata": {},
   "outputs": [
    {
     "name": "stdout",
     "output_type": "stream",
     "text": [
      "Language of geotagged tweets against the count of tweets\n"
     ]
    },
    {
     "data": {
      "image/png": "[encoded data removed]",
      "text/plain": [
       "<Figure size 432x288 with 1 Axes>"
      ]
     },
     "metadata": {
      "needs_background": "light"
     },
     "output_type": "display_data"
    }
   ],
   "source": [
    "# plotting the language the tweeter users who geotagged understands.\n",
    "lang = data_tag.user_lang.value_counts()\n",
    "lang.plot(kind='bar')\n",
    "print(\"Language of geotagged tweets against the count of tweets\")\n",
    "plt.show()"
   ]
  },
  {
   "cell_type": "code",
   "execution_count": 25,
   "metadata": {},
   "outputs": [
    {
     "name": "stdout",
     "output_type": "stream",
     "text": [
      "Language of tweets not geotagged against the count of tweets\n"
     ]
    },
    {
     "data": {
      "image/png": "[encoded data removed]",
      "text/plain": [
       "<Figure size 432x288 with 1 Axes>"
      ]
     },
     "metadata": {
      "needs_background": "light"
     },
     "output_type": "display_data"
    }
   ],
   "source": [
    "lang = data_not_tag.user_lang.value_counts()\n",
    "lang.plot(kind='bar')\n",
    "print(\"Language of tweets not geotagged against the count of tweets\")\n",
    "plt.show()"
   ]
  },
  {
   "cell_type": "code",
   "execution_count": 26,
   "metadata": {},
   "outputs": [
    {
     "name": "stdout",
     "output_type": "stream",
     "text": [
      "Mean number of friends for the people who geotagged their tweets is:\n"
     ]
    },
    {
     "data": {
      "text/plain": [
       "1363.183908045977"
      ]
     },
     "execution_count": 26,
     "metadata": {},
     "output_type": "execute_result"
    }
   ],
   "source": [
    "# Calculating the mean of the friends_count\n",
    "print(\"Mean number of friends for the people who geotagged their tweets is:\")\n",
    "data_tag.friends_count.mean()\n"
   ]
  },
  {
   "cell_type": "code",
   "execution_count": 27,
   "metadata": {},
   "outputs": [
    {
     "name": "stdout",
     "output_type": "stream",
     "text": [
      "Mean number of friends for the people who did not geotag their tweets is:\n"
     ]
    },
    {
     "data": {
      "text/plain": [
       "5563.1763779527555"
      ]
     },
     "execution_count": 27,
     "metadata": {},
     "output_type": "execute_result"
    }
   ],
   "source": [
    "print(\"Mean number of friends for the people who did not geotag their tweets is:\")\n",
    "data_not_tag.friends_count.mean()\n"
   ]
  },
  {
   "cell_type": "markdown",
   "metadata": {},
   "source": [
    "People who do not geotag their tweets have more friends than people who geotag their tweets."
   ]
  },
  {
   "cell_type": "code",
   "execution_count": null,
   "metadata": {},
   "outputs": [],
   "source": []
  }
 ],
 "metadata": {
  "kernelspec": {
   "display_name": "Python 3",
   "language": "python",
   "name": "python3"
  },
  "language_info": {
   "codemirror_mode": {
    "name": "ipython",
    "version": 3
   },
   "file_extension": ".py",
   "mimetype": "text/x-python",
   "name": "python",
   "nbconvert_exporter": "python",
   "pygments_lexer": "ipython3",
   "version": "3.7.1"
  }
 },
 "nbformat": 4,
 "nbformat_minor": 2
}
